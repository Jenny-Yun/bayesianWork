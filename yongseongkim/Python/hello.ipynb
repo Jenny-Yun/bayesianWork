{
 "metadata": {
  "name": "",
  "signature": "sha256:738ddd427beaf7dcb96b5a683a872e7e2b238079327e00e616d687ad2ec1d667"
 },
 "nbformat": 3,
 "nbformat_minor": 0,
 "worksheets": [
  {
   "cells": [
    {
     "cell_type": "code",
     "collapsed": false,
     "input": [
      "hello, ipython notebook"
     ],
     "language": "python",
     "metadata": {},
     "outputs": []
    }
   ],
   "metadata": {}
  }
 ]
}